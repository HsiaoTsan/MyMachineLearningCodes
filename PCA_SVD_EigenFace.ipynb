{
 "cells": [
  {
   "cell_type": "markdown",
   "metadata": {},
   "source": [
    "Author: Xiaocan Li\n",
    "\n",
    "E-mail: lixiaocan2017@ia.ac.cn\n",
    "\n",
    "Follow me on [My GitHub](https://github.com/HsiaoTsan).\n",
    "\n",
    "Last modified: 9, Nov, 2018"
   ]
  },
  {
   "cell_type": "markdown",
   "metadata": {},
   "source": [
    "# Method 1: use SVD to do PCA\n",
    "Courtesy of [yalefaces database](http://cvc.cs.yale.edu/cvc/projects/yalefaces/yalefaces.html).\n",
    "\n",
    "First, import necessary module."
   ]
  },
  {
   "cell_type": "code",
   "execution_count": 1,
   "metadata": {},
   "outputs": [],
   "source": [
    "import matplotlib.pyplot as plt\n",
    "import matplotlib.image as mpimg\n",
    "import numpy as np\n",
    "import cv2"
   ]
  },
  {
   "cell_type": "markdown",
   "metadata": {},
   "source": [
    "Read image data and combine into a matrix: `X_with_mean`"
   ]
  },
  {
   "cell_type": "code",
   "execution_count": 2,
   "metadata": {},
   "outputs": [
    {
     "name": "stdout",
     "output_type": "stream",
     "text": [
      "(2500, 165)\n",
      "(2500, 1)\n"
     ]
    }
   ],
   "source": [
    "path='/home/lxc/pycode_lxc/yalefaces/'\n",
    "f = open('path.txt')\n",
    "X_with_mean = []\n",
    "lines = [line.rstrip('\\n') for line in f]\n",
    "\n",
    "for i in range(len(lines)):\n",
    "    img=cv2.imread(path+lines[i], 0)\n",
    "    face_resize = cv2.resize(img, (0,0), fx = 0.5, fy = 0.5)\n",
    "    X_with_mean.append(face_resize.flatten())\n",
    "\n",
    "X_with_mean = np.matrix(X_with_mean).T\n",
    "print X_with_mean.shape\n",
    "x_mean = np.mean(X_with_mean, axis = 1)\n",
    "print x_mean.shape"
   ]
  },
  {
   "cell_type": "markdown",
   "metadata": {},
   "source": [
    "Show average face:"
   ]
  },
  {
   "cell_type": "code",
   "execution_count": 3,
   "metadata": {},
   "outputs": [],
   "source": [
    "# Show average face.\n",
    "# avg_face = x_mean.reshape(100, 100)\n",
    "# avg_face = avg_face.astype(np.uint8)\n",
    "# cv2.imshow(\"\", avg_face)\n",
    "# cv2.waitKey(0)\n",
    "# cv2.destroyAllWindows()"
   ]
  },
  {
   "cell_type": "markdown",
   "metadata": {},
   "source": [
    "subtract the mean (column-wise), then do SVD."
   ]
  },
  {
   "cell_type": "code",
   "execution_count": 59,
   "metadata": {},
   "outputs": [
    {
     "name": "stdout",
     "output_type": "stream",
     "text": [
      "(2500, 165)\n"
     ]
    }
   ],
   "source": [
    "# SVD the mean subtracted matrix\n",
    "X = X_with_mean - x_mean\n",
    "print X.shape\n",
    "#covX = X.dot(X.T)\n",
    "# print covX.shape\n",
    "U, S, VT = np.linalg.svd(X)"
   ]
  },
  {
   "cell_type": "code",
   "execution_count": 106,
   "metadata": {
    "scrolled": false
   },
   "outputs": [
    {
     "name": "stdout",
     "output_type": "stream",
     "text": [
      " (2500, 2500) (165, 165)\n"
     ]
    }
   ],
   "source": [
    "print U.shape, VT.shape"
   ]
  },
  {
   "cell_type": "markdown",
   "metadata": {},
   "source": [
    "Set `MAX_NUM_EIGEN`, get the first `MAX_NUM_EIGEN` columns of `U` as principal axes,"
   ]
  },
  {
   "cell_type": "code",
   "execution_count": null,
   "metadata": {},
   "outputs": [],
   "source": [
    "MAX_NUM_EIGEN = 10\n",
    "eigenfaces = U[:, :MAX_NUM_EIGEN] # eigenvector(eigenface)\n",
    "weights = eigenfaces.T.dot(X) # get weights, or coordinates under eigenfaces bases.\n",
    "\n",
    "face_rec = eigenfaces.dot(weights) + x_mean # recover data \n",
    "cv2.imshow(\"face_rec\", face_rec[:, 0].reshape(50, -1).astype(np.uint8))\n",
    "cv2.waitKey(0)\n",
    "cv2.destroyAllWindows()"
   ]
  },
  {
   "cell_type": "markdown",
   "metadata": {},
   "source": [
    "# Method 2: use OpenCV built-in PCA method\n",
    "use your own `weights` list to generate new face\n",
    "\n",
    "I didn't use `createDataMatrix` function to form an image stacked array.\n",
    "\n",
    "I use `X_with_mean` in previous method.\n",
    "\n",
    "## modified from original code  [here](https://www.learnopencv.com/eigenface-using-opencv-c-python/)"
   ]
  },
  {
   "cell_type": "code",
   "execution_count": 177,
   "metadata": {
    "scrolled": true
   },
   "outputs": [
    {
     "name": "stdout",
     "output_type": "stream",
     "text": [
      "Calculating PCA... \n",
      "DONE\n",
      "(50, 50)\n"
     ]
    }
   ],
   "source": [
    "\n",
    "import cv2\n",
    "\n",
    "def createDataMatrix(images):\n",
    "    print(\"Creating data matrix\")\n",
    "    ''' \n",
    "    Allocate space for all images in one data matrix. \n",
    "        The size of the data matrix is\n",
    "        ( w  * h, numImages )\n",
    "        where,\n",
    "        w = width of an image in the dataset.\n",
    "        h = height of an image in the dataset.\n",
    "        3 is for the 3 color channels.\n",
    "        '''\n",
    "   \n",
    "    numImages = len(images)\n",
    "    sz = images[0].shape\n",
    "    data = np.zeros((numImages, sz[0] * sz[1]), dtype=np.float32)\n",
    "    for i in xrange(0, numImages):\n",
    "        image = images[i].flatten()\n",
    "        data[i,:] = image\n",
    "     \n",
    "    print(\"DONE\")\n",
    "    return data\n",
    "\n",
    "def createNewFace(weights):\n",
    "    # Start with the mean image\n",
    "    output = averageFace\n",
    "    print output.shape\n",
    "    # Add the eigen faces with the weights\n",
    "    for i in xrange(0, NUM_EIGEN_FACES):\n",
    "        output = np.add(output, eigenFaces[i] * weights[i])\n",
    " \n",
    "    # Display Result at 2x size\n",
    "    output = cv2.resize(output, (0,0), fx=2, fy=2)\n",
    "    cv2.imshow(\"Result\", output.astype(np.uint8))\n",
    "\n",
    "\n",
    "\n",
    "if __name__ == '__main__':\n",
    "    data = X_with_mean.T # I use X_with_mean from previous method\n",
    "    sz = [50, 50]\n",
    "     # Compute the eigenvectors from the stack of images created\n",
    "    print(\"Calculating PCA... \")\n",
    "    mean, eigenVectors = cv2.PCACompute(data, mean=None, maxComponents=NUM_EIGEN_FACES)\n",
    "    print (\"DONE\")\n",
    "    averageFace = mean.reshape(50,50)\n",
    "    eigenFaces = []; \n",
    "    for eigenVector in eigenVectors:\n",
    "        eigenFace = eigenVector.reshape(sz)\n",
    "        eigenFaces.append(eigenFace)\n",
    "     # Create window for displaying Mean Face\n",
    "     # Display result at 2x size\n",
    "    output = cv2.resize(averageFace, (0,0), fx=2, fy=2)\n",
    "    cv2.imshow(\"average face\", output.astype(np.uint8))\n",
    "    \n",
    "    # modify weights to see what face you will get\n",
    "    weights = [100]*5+[300]*2+[-100]*3\n",
    "    createNewFace(weights)\n",
    "\n",
    "    cv2.waitKey(0)\n",
    "    cv2.destroyAllWindows()"
   ]
  },
  {
   "cell_type": "markdown",
   "metadata": {},
   "source": [
    "Eigenvectors computed by OpenCV is different from numpy SVD decomposition.\n",
    "\n",
    "Some of their respective weights are **additive inverses**.\n",
    "\n",
    "Check the following."
   ]
  },
  {
   "cell_type": "code",
   "execution_count": 117,
   "metadata": {},
   "outputs": [
    {
     "name": "stdout",
     "output_type": "stream",
     "text": [
      "[[  198.35397339]\n",
      " [  601.96154785]\n",
      " [  449.56005859]\n",
      " [-1032.33642578]\n",
      " [  418.53237915]\n",
      " [  -25.09783936]\n",
      " [  294.95230103]\n",
      " [ -278.42581177]\n",
      " [  575.706604  ]\n",
      " [  201.42860413]]\n",
      "(10, 1)\n"
     ]
    }
   ],
   "source": [
    "print W[:, 1]\n",
    "print W[:, 0].shape"
   ]
  },
  {
   "cell_type": "code",
   "execution_count": 76,
   "metadata": {
    "scrolled": true
   },
   "outputs": [
    {
     "name": "stdout",
     "output_type": "stream",
     "text": [
      "(10, 165)\n"
     ]
    }
   ],
   "source": [
    "#weights by SVD\n",
    "W_svd = X.T.dot(U[:, 0:10]).T\n",
    "print W_svd.shape"
   ]
  },
  {
   "cell_type": "markdown",
   "metadata": {},
   "source": [
    "compare `W[:, 1]` and `W_svd[:, 1]`, some entries are additive inverses."
   ]
  },
  {
   "cell_type": "code",
   "execution_count": 118,
   "metadata": {
    "scrolled": true
   },
   "outputs": [
    {
     "data": {
      "text/plain": [
       "matrix([[  198.35402755],\n",
       "        [ -601.96185132],\n",
       "        [  449.56004677],\n",
       "        [ 1032.32280528],\n",
       "        [ -418.58417136],\n",
       "        [   25.09809975],\n",
       "        [ -294.95169514],\n",
       "        [  278.42665857],\n",
       "        [ -575.71555253],\n",
       "        [ -201.38031907]])"
      ]
     },
     "execution_count": 118,
     "metadata": {},
     "output_type": "execute_result"
    }
   ],
   "source": [
    "W_svd[:, 1]"
   ]
  },
  {
   "cell_type": "markdown",
   "metadata": {},
   "source": [
    "Take a look at the eigenvectors by both OpenCV built-in method, and SVD."
   ]
  },
  {
   "cell_type": "code",
   "execution_count": 159,
   "metadata": {
    "scrolled": true
   },
   "outputs": [
    {
     "data": {
      "text/plain": [
       "(2500,)"
      ]
     },
     "execution_count": 159,
     "metadata": {},
     "output_type": "execute_result"
    }
   ],
   "source": [
    "eigenVectors[1].shape"
   ]
  },
  {
   "cell_type": "code",
   "execution_count": 152,
   "metadata": {
    "scrolled": true
   },
   "outputs": [
    {
     "data": {
      "text/plain": [
       "matrix([[ 0.04203549],\n",
       "        [ 0.03126767],\n",
       "        [ 0.02121749],\n",
       "        ..., \n",
       "        [-0.04195169],\n",
       "        [-0.04067728],\n",
       "        [-0.04145191]])"
      ]
     },
     "execution_count": 152,
     "metadata": {},
     "output_type": "execute_result"
    }
   ],
   "source": [
    "U[:, 1]"
   ]
  },
  {
   "cell_type": "markdown",
   "metadata": {},
   "source": [
    "**array/martix with shape (2500,) and (2500,1) should not do subtraction.**\n",
    "\n",
    "**Use reshape(2500, 1).**\n",
    "\n",
    "**array and matrix can do subtraction as long as they share the same shape**"
   ]
  },
  {
   "cell_type": "code",
   "execution_count": 175,
   "metadata": {},
   "outputs": [
    {
     "data": {
      "text/plain": [
       "6.2459216868813559e-07"
      ]
     },
     "execution_count": 175,
     "metadata": {},
     "output_type": "execute_result"
    }
   ],
   "source": [
    "# very small number\n",
    "# means eigenVectors[1] = - U[:, 1]\n",
    "np.linalg.norm(eigenVectors[1].reshape(-1,1) + U[:, 1])"
   ]
  },
  {
   "cell_type": "markdown",
   "metadata": {},
   "source": [
    "we get nearly zero, which means `eigenVectors[1] = - U[:, 1]`.\n",
    "\n",
    "That's why some entries of `W[:, 1]` is additive."
   ]
  }
 ],
 "metadata": {
  "kernelspec": {
   "display_name": "Python 2",
   "language": "python",
   "name": "python2"
  },
  "language_info": {
   "codemirror_mode": {
    "name": "ipython",
    "version": 2
   },
   "file_extension": ".py",
   "mimetype": "text/x-python",
   "name": "python",
   "nbconvert_exporter": "python",
   "pygments_lexer": "ipython2",
   "version": "2.7.12"
  }
 },
 "nbformat": 4,
 "nbformat_minor": 2
}
